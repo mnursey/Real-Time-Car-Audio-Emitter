{
  "cells": [
    {
      "cell_type": "markdown",
      "metadata": {
        "id": "GJzp6_EWEsKL"
      },
      "source": [
        "### Imports"
      ]
    },
    {
      "cell_type": "code",
      "execution_count": 45,
      "metadata": {
        "id": "0eTmKmAlErlc"
      },
      "outputs": [],
      "source": [
        "import numpy as np\n",
        "import IPython.display as ipd\n",
        "import math\n",
        "import IPython\n",
        "import sys\n",
        "import pyaudio\n",
        "\n",
        "import time\n",
        "import matplotlib.pyplot as plt\n",
        "from matplotlib.widgets import Slider, Button, RadioButtons\n",
        "import wave\n",
        "import random\n",
        "import scipy"
      ]
    },
    {
      "cell_type": "code",
      "execution_count": 43,
      "metadata": {},
      "outputs": [],
      "source": [
        "def noise(duration=1, srate=44100):\n",
        "  t = np.arange(0, duration, 1/srate)\n",
        "  t *= 0\n",
        "  t += np.random.normal(0,1,t.shape)\n",
        "  return t\n",
        "\n",
        "def load_wavefile(filename):\n",
        "  # Open wave file\n",
        "  wave_file = wave.open(filename, 'rb')\n",
        "\n",
        "  # Get parameters\n",
        "  nchannels = wave_file.getnchannels()\n",
        "  sampwidth = wave_file.getsampwidth()\n",
        "  framerate = wave_file.getframerate()\n",
        "  nframes = wave_file.getnframes()\n",
        "\n",
        "  # Read wave data\n",
        "  wave_data = wave_file.readframes(nframes)\n",
        "\n",
        "  # Convert wave data to numpy array\n",
        "  if sampwidth == 2:\n",
        "    # 16-bit samples are stored as signed integers\n",
        "    wave_data = np.frombuffer(wave_data, dtype=np.int16)\n",
        "    print(\"16 int\") # ensure type is correct\n",
        "  elif sampwidth == 4:\n",
        "    # 32-bit samples are stored as floats\n",
        "    wave_data = np.frombuffer(wave_data, dtype=np.int32)\n",
        "    print(\"32 float\") # ensure type is correct\n",
        "\n",
        "  # If stereo, average the channels\n",
        "  if nchannels == 2:\n",
        "    wave_data = np.mean(wave_data.reshape((-1, 2)), axis=1)\n",
        "  \n",
        "  return wave_data, framerate"
      ]
    },
    {
      "attachments": {},
      "cell_type": "markdown",
      "metadata": {},
      "source": [
        "### Define Speed over time\n",
        "Use this to define what the engine is doing "
      ]
    },
    {
      "cell_type": "code",
      "execution_count": 96,
      "metadata": {},
      "outputs": [
        {
          "data": {
            "text/plain": [
              "[<matplotlib.lines.Line2D at 0x1deea65bb20>]"
            ]
          },
          "execution_count": 96,
          "metadata": {},
          "output_type": "execute_result"
        },
        {
          "data": {
            "image/png": "[encoded data removed]",
            "text/plain": [
              "<Figure size 640x480 with 1 Axes>"
            ]
          },
          "metadata": {},
          "output_type": "display_data"
        }
      ],
      "source": [
        "\n",
        "speed_values    = [0.9, 0.9, 0.98, 0.95, 1.0, 1.25, 0.9] # These values should be in the range of min speed to max speed\n",
        "speed_time      = [0.0, 1.0, 2.00, 3.00, 4.0, 5.00, 6.0] # Defined in seconds\n",
        "\n",
        "plt.plot(speed_time, speed_values,label='Speed over time')"
      ]
    },
    {
      "cell_type": "code",
      "execution_count": 94,
      "metadata": {
        "colab": {
          "base_uri": "https://localhost:8080/",
          "height": 432
        },
        "id": "JJ3FP-DhO_vE",
        "outputId": "3d83e83d-c5aa-4f19-c5c0-dfb6de852230"
      },
      "outputs": [
        {
          "name": "stdout",
          "output_type": "stream",
          "text": [
            "16 int\n",
            "16 int\n",
            "16 int\n",
            "16 int\n"
          ]
        }
      ],
      "source": [
        "# Load wave file\n",
        "yamaha_audio, srate = load_wavefile('./Audio Samples/Yamaha_24MX/Yamaha_24MX_Single_Repeat.wav')\n",
        "yamaha_audio_deaccelerate, srate = load_wavefile('./Audio Samples/Yamaha_24MX/Yamaha_24MX_Single_Repeat_deacceleration.wav')\n",
        "yamaha_audio_idle_loop, srate = load_wavefile('./Audio Samples/Yamaha_24MX/Yamaha_24MX_Idle_Loop.wav')\n",
        "\n",
        "wind_audio = load_wavefile('./Audio Samples/wind_loop.wav')[0]\n",
        "\n",
        "frame_clock = 0.0\n",
        "max_speed = 1.25\n",
        "min_speed = 0.9\n",
        "idle_speed = 0.95\n",
        "\n",
        "alpha = 0.001\n",
        "beta  = 4\n",
        "speed = min_speed\n",
        "speed_variation = 0.003\n",
        "duration = 10\n",
        "\n",
        "accelerate_sound_gain = 1.1\n",
        "deaccelerate_sound_gain = 0.75\n",
        "idle_sound_gain = 0.4\n",
        "\n",
        "sample_lerp = 1.0 # a value of 1 is acceleration only, a value of 0 is deacceleration only. 0.5 is 50% each\n",
        "sample_lerp_rate = 0.1\n",
        "\n",
        "idle_lerp = 0.0\n",
        "idle_lerp_rate = 0.02\n",
        "\n",
        "wind_gain_max = 0.95\n",
        "wind_gain_min = 0.3\n",
        "\n",
        "# Define callback for playback\n",
        "def callback(in_data, frame_count, time_info, status):\n",
        "\n",
        "    global frame_clock\n",
        "    global yamaha_audio\n",
        "    global speed\n",
        "    global alpha \n",
        "    global sample_lerp\n",
        "    global speed_variation\n",
        "    global wind_audio\n",
        "    global wind_gain_max\n",
        "    global wind_gain_min\n",
        "    global idle_sound_gain\n",
        "    global idle_lerp\n",
        "    global idle_lerp_rate\n",
        "\n",
        "    data = np.zeros(frame_count).astype(np.int16) # ensure type is correct\n",
        "\n",
        "    if alpha < 0:\n",
        "        sample_lerp -= sample_lerp_rate\n",
        "    else:\n",
        "        sample_lerp += sample_lerp_rate\n",
        "\n",
        "    # Clamp sample lerp between 0 and 1\n",
        "    sample_lerp = max(min(sample_lerp, 1.0), 0.0)\n",
        "\n",
        "    # We lerp between the two samples when because when we start deaccelerating we don't want to create a popping effect\n",
        "    audio_sample = (yamaha_audio_deaccelerate * deaccelerate_sound_gain) + ((yamaha_audio * accelerate_sound_gain) - (yamaha_audio_deaccelerate * deaccelerate_sound_gain)) * sample_lerp\n",
        "\n",
        "\n",
        "    if speed < idle_speed:\n",
        "        idle_lerp -= idle_lerp_rate\n",
        "    else:\n",
        "        idle_lerp += idle_lerp_rate\n",
        "        \n",
        "    # Clamp idle lerp between 0 and 1\n",
        "    idle_lerp = max(min(idle_lerp, 1.0), 0.0)\n",
        "    gain_fade = idle_lerp\n",
        "\n",
        "    for i in range(frame_count):\n",
        "\n",
        "        # Add engine sound\n",
        "        frame_lower = math.floor(frame_clock)\n",
        "        frame_upper = math.ceil(frame_clock)\n",
        "\n",
        "        lower_to_upper_ratio = frame_clock - math.floor(frame_clock)\n",
        "\n",
        "        lower_value = audio_sample[frame_lower % yamaha_audio.shape[0]]\n",
        "        upper_value = audio_sample[frame_upper % yamaha_audio.shape[0]]\n",
        "\n",
        "        interpolated_value = lower_value + (upper_value - lower_value) * lower_to_upper_ratio\n",
        "\n",
        "        data[i] += interpolated_value * gain_fade\n",
        "        data[i] += yamaha_audio_idle_loop[frame_lower % yamaha_audio_idle_loop.shape[0]] * idle_sound_gain * (1.0 - gain_fade)\n",
        "\n",
        "        # Add wind sound\n",
        "        # Wind gain is based off of speed, more speed -> more wind\n",
        "        wind_gain = wind_gain_min + (wind_gain_max - wind_gain_min) * ((speed - min_speed) / (max_speed - min_speed))\n",
        "        data[i] += wind_audio[frame_lower % wind_audio.shape[0]] * wind_gain\n",
        "\n",
        "        frame_clock += speed\n",
        "\n",
        "    speed += alpha * math.pow(speed, beta)\n",
        "    speed += speed_variation * (random.random() - 0.5)\n",
        "\n",
        "    if speed > max_speed:\n",
        "        alpha = -abs(alpha)\n",
        "\n",
        "    if speed < min_speed:\n",
        "        alpha = abs(alpha)\n",
        "\n",
        "    return (data, pyaudio.paContinue)\n",
        "\n",
        "# Instantiate PyAudio and initialize PortAudio system resources\n",
        "p = pyaudio.PyAudio()\n",
        "\n",
        "# Open stream using callback\n",
        "stream = p.open(format=pyaudio.paInt16, # ensure type is correct\n",
        "                channels=1,\n",
        "                rate=srate,\n",
        "                output=True,\n",
        "                stream_callback=callback)\n",
        "\n",
        "# Wait until audio stream is completed\n",
        "time.sleep(duration)\n",
        "\n",
        "# Close the stream \n",
        "stream.close()\n",
        "\n",
        "# Release PortAudio system resources\n",
        "p.terminate()"
      ]
    },
    {
      "attachments": {},
      "cell_type": "markdown",
      "metadata": {},
      "source": [
        "#### Used to close stream incase of error"
      ]
    },
    {
      "cell_type": "code",
      "execution_count": 89,
      "metadata": {},
      "outputs": [],
      "source": [
        "# Close the stream \n",
        "stream.close()\n",
        "\n",
        "# Release PortAudio system resources\n",
        "p.terminate()"
      ]
    },
    {
      "attachments": {
        "image.png": {
          "image/png": "[encoded data removed]"
        }
      },
      "cell_type": "markdown",
      "metadata": {},
      "source": [
        "Deacceleration audio filtering \\\n",
        "\\\n",
        "![image.png](attachment:image.png)"
      ]
    },
    {
      "attachments": {
        "image.png": {
          "image/png": "[encoded data removed]"
        }
      },
      "cell_type": "markdown",
      "metadata": {},
      "source": [
        "Acceleration qudio filtering \\\n",
        "\\\n",
        "![image.png](attachment:image.png)"
      ]
    }
  ],
  "metadata": {
    "colab": {
      "provenance": []
    },
    "kernelspec": {
      "display_name": "Python 3",
      "language": "python",
      "name": "python3"
    },
    "language_info": {
      "codemirror_mode": {
        "name": "ipython",
        "version": 3
      },
      "file_extension": ".py",
      "mimetype": "text/x-python",
      "name": "python",
      "nbconvert_exporter": "python",
      "pygments_lexer": "ipython3",
      "version": "3.10.5"
    },
    "vscode": {
      "interpreter": {
        "hash": "369f2c481f4da34e4445cda3fffd2e751bd1c4d706f27375911949ba6bb62e1c"
      }
    }
  },
  "nbformat": 4,
  "nbformat_minor": 0
}
