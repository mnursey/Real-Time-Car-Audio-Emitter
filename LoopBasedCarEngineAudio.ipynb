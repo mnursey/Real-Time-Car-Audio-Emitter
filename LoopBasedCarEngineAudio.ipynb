{
  "cells": [
    {
      "cell_type": "markdown",
      "metadata": {
        "id": "GJzp6_EWEsKL"
      },
      "source": [
        "### Imports"
      ]
    },
    {
      "cell_type": "code",
      "execution_count": 1,
      "metadata": {
        "id": "0eTmKmAlErlc"
      },
      "outputs": [
        {
          "name": "stdout",
          "output_type": "stream",
          "text": [
            "pygame 2.1.2 (SDL 2.0.18, Python 3.10.5)\n",
            "Hello from the pygame community. https://www.pygame.org/contribute.html\n"
          ]
        }
      ],
      "source": [
        "import numpy as np\n",
        "import IPython.display as ipd\n",
        "import math\n",
        "import IPython\n",
        "import sys\n",
        "import pyaudio\n",
        "\n",
        "import time\n",
        "import matplotlib.pyplot as plt\n",
        "from matplotlib.widgets import Slider, Button, RadioButtons\n",
        "import wave\n",
        "import random\n",
        "import scipy\n",
        "\n",
        "import pygame_widgets\n",
        "import pygame\n",
        "from pygame_widgets.slider import Slider\n",
        "from pygame_widgets.textbox import TextBox"
      ]
    },
    {
      "cell_type": "code",
      "execution_count": 2,
      "metadata": {},
      "outputs": [],
      "source": [
        "def noise(duration=1, srate=44100):\n",
        "  t = np.arange(0, duration, 1/srate)\n",
        "  t *= 0\n",
        "  t += np.random.normal(0,1,t.shape)\n",
        "  return t\n",
        "\n",
        "def load_wavefile(filename):\n",
        "  # Open wave file\n",
        "  wave_file = wave.open(filename, 'rb')\n",
        "\n",
        "  # Get parameters\n",
        "  nchannels = wave_file.getnchannels()\n",
        "  sampwidth = wave_file.getsampwidth()\n",
        "  framerate = wave_file.getframerate()\n",
        "  nframes = wave_file.getnframes()\n",
        "\n",
        "  # Read wave data\n",
        "  wave_data = wave_file.readframes(nframes)\n",
        "\n",
        "  # Convert wave data to numpy array\n",
        "  if sampwidth == 2:\n",
        "    # 16-bit samples are stored as signed integers\n",
        "    wave_data = np.frombuffer(wave_data, dtype=np.int16)\n",
        "    print(\"16 int\") # ensure type is correct\n",
        "  elif sampwidth == 4:\n",
        "    # 32-bit samples are stored as floats\n",
        "    wave_data = np.frombuffer(wave_data, dtype=np.int32)\n",
        "    print(\"32 float\") # ensure type is correct\n",
        "\n",
        "  # If stereo, average the channels\n",
        "  if nchannels == 2:\n",
        "    wave_data = np.mean(wave_data.reshape((-1, 2)), axis=1)\n",
        "  \n",
        "  return wave_data, framerate"
      ]
    },
    {
      "attachments": {},
      "cell_type": "markdown",
      "metadata": {},
      "source": [
        "### Define Speed over time\n",
        "Use this to define what the engine is doing "
      ]
    },
    {
      "cell_type": "code",
      "execution_count": 3,
      "metadata": {},
      "outputs": [
        {
          "data": {
            "text/plain": [
              "[<matplotlib.lines.Line2D at 0x1ac68653e80>]"
            ]
          },
          "execution_count": 3,
          "metadata": {},
          "output_type": "execute_result"
        },
        {
          "data": {
            "image/png": "[encoded data removed]",
            "text/plain": [
              "<Figure size 640x480 with 1 Axes>"
            ]
          },
          "metadata": {},
          "output_type": "display_data"
        }
      ],
      "source": [
        "\n",
        "speed_values    = [0.9, 0.9, 0.93, 0.92, 0.93, 1.0, 1.25, 1.25, 1.1, 0.9, 0.9] # These values should be in the range of min speed to max speed\n",
        "speed_time      = [0.0, 2.0, 2.10, 2.20, 2.30, 3.0, 4.00, 5.00, 7.0, 8.0, 10.0] # Defined in seconds\n",
        "\n",
        "plt.plot(speed_time, speed_values,label='Speed over time')"
      ]
    },
    {
      "cell_type": "code",
      "execution_count": 4,
      "metadata": {
        "colab": {
          "base_uri": "https://localhost:8080/",
          "height": 432
        },
        "id": "JJ3FP-DhO_vE",
        "outputId": "3d83e83d-c5aa-4f19-c5c0-dfb6de852230"
      },
      "outputs": [
        {
          "name": "stdout",
          "output_type": "stream",
          "text": [
            "16 int\n",
            "16 int\n",
            "16 int\n",
            "16 int\n"
          ]
        },
        {
          "ename": "KeyboardInterrupt",
          "evalue": "",
          "output_type": "error",
          "traceback": [
            "\u001b[1;31m---------------------------------------------------------------------------\u001b[0m",
            "\u001b[1;31mKeyboardInterrupt\u001b[0m                         Traceback (most recent call last)",
            "\u001b[1;32md:\\_Desktop\\CSC 484D Final Project\\Real-Time-Car-Audio-Emitter\\LoopBasedCarEngineAudio.ipynb Cell 6\u001b[0m in \u001b[0;36m1\n\u001b[0;32m    <a href='vscode-notebook-cell:/d%3A/_Desktop/CSC%20484D%20Final%20Project/Real-Time-Car-Audio-Emitter/LoopBasedCarEngineAudio.ipynb#W5sZmlsZQ%3D%3D?line=144'>145</a>\u001b[0m         pygame_widgets\u001b[39m.\u001b[39mupdate(events)\n\u001b[0;32m    <a href='vscode-notebook-cell:/d%3A/_Desktop/CSC%20484D%20Final%20Project/Real-Time-Car-Audio-Emitter/LoopBasedCarEngineAudio.ipynb#W5sZmlsZQ%3D%3D?line=145'>146</a>\u001b[0m         pygame\u001b[39m.\u001b[39mdisplay\u001b[39m.\u001b[39mupdate()\n\u001b[1;32m--> <a href='vscode-notebook-cell:/d%3A/_Desktop/CSC%20484D%20Final%20Project/Real-Time-Car-Audio-Emitter/LoopBasedCarEngineAudio.ipynb#W5sZmlsZQ%3D%3D?line=147'>148</a>\u001b[0m     time\u001b[39m.\u001b[39;49msleep(\u001b[39m0.07\u001b[39;49m)\n\u001b[0;32m    <a href='vscode-notebook-cell:/d%3A/_Desktop/CSC%20484D%20Final%20Project/Real-Time-Car-Audio-Emitter/LoopBasedCarEngineAudio.ipynb#W5sZmlsZQ%3D%3D?line=149'>150</a>\u001b[0m \u001b[39m# Close the stream \u001b[39;00m\n\u001b[0;32m    <a href='vscode-notebook-cell:/d%3A/_Desktop/CSC%20484D%20Final%20Project/Real-Time-Car-Audio-Emitter/LoopBasedCarEngineAudio.ipynb#W5sZmlsZQ%3D%3D?line=150'>151</a>\u001b[0m stream\u001b[39m.\u001b[39mclose()\n",
            "\u001b[1;31mKeyboardInterrupt\u001b[0m: "
          ]
        }
      ],
      "source": [
        "# Setup pygame window\n",
        "pygame.init()\n",
        "win = pygame.display.set_mode((1000, 600))\n",
        "\n",
        "# Create slider\n",
        "slider = Slider(win, 100, 100, 800, 40, min=0.9, max=1.25, step=0.0001, initial=0.9)\n",
        "# Create output textbox\n",
        "output = TextBox(win, 475, 200, 50, 50, fontSize=30)\n",
        "\n",
        "output.disable()  # Act as label instead of textbox\n",
        "\n",
        "# Load wave file\n",
        "yamaha_audio, srate = load_wavefile('./Audio Samples/Yamaha_24MX/Yamaha_24MX_Single_Repeat_1.wav')\n",
        "yamaha_audio_deaccelerate, srate = load_wavefile('./Audio Samples/Yamaha_24MX/Yamaha_24MX_Single_Repeat_deacceleration_2.wav')\n",
        "yamaha_audio_idle_loop, srate = load_wavefile('./Audio Samples/Yamaha_24MX/Yamaha_24MX_Idle_Loop.wav')\n",
        "\n",
        "wind_audio = load_wavefile('./Audio Samples/wind_loop.wav')[0]\n",
        "\n",
        "global_time = 0.0\n",
        "\n",
        "frame_clock = 0.0\n",
        "max_speed = 1.25\n",
        "min_speed = 0.9\n",
        "idle_speed = 0.92\n",
        "engine_speed = min_speed\n",
        "\n",
        "speed = min_speed\n",
        "speed_variation = 0.001\n",
        "duration = max(speed_time)\n",
        "\n",
        "accelerate_sound_gain = 1.1\n",
        "deaccelerate_sound_gain = 0.75\n",
        "idle_sound_gain = 0.4\n",
        "\n",
        "sample_lerp = 1.0 # a value of 1 is acceleration only, a value of 0 is deacceleration only. 0.5 is 50% each\n",
        "sample_lerp_rate = 0.1\n",
        "\n",
        "idle_lerp = 0.0\n",
        "idle_lerp_rate = 0.0001\n",
        "\n",
        "wind_gain_max = 0.95\n",
        "wind_gain_min = 0.3\n",
        "\n",
        "prev_engine_speed = speed_values[0]\n",
        "\n",
        "def interpolate(minY : float, maxY : float, minX : float, maxX : float, x : float):\n",
        "    return minY + ((x - minX) * (maxY - minY) / (maxX - minX))\n",
        "\n",
        "def clamp01(number : float):\n",
        "    return max(min(number, 1.0), 0.0)\n",
        "\n",
        "# Define callback for playback\n",
        "def callback(in_data, frame_count, time_info, status):\n",
        "\n",
        "    global global_time\n",
        "    global frame_clock\n",
        "    global yamaha_audio\n",
        "    global sample_lerp\n",
        "    global speed_variation\n",
        "    global wind_audio\n",
        "    global wind_gain_max\n",
        "    global wind_gain_min\n",
        "    global idle_sound_gain\n",
        "    global idle_lerp\n",
        "    global idle_lerp_rate\n",
        "    global engine_speed\n",
        "\n",
        "    data = np.zeros(frame_count).astype(np.int16) # ensure type is correct\n",
        "\n",
        "    for i in range(frame_count):\n",
        "\n",
        "        # Handle lerping between samples\n",
        "        if  engine_speed - prev_engine_speed < 0:\n",
        "            sample_lerp -= sample_lerp_rate\n",
        "        else:\n",
        "            sample_lerp += sample_lerp_rate\n",
        "\n",
        "        # Clamp sample lerp between 0 and 1\n",
        "        sample_lerp = clamp01(sample_lerp)\n",
        "\n",
        "        # We lerp between the two samples when because when we start deaccelerating we don't want to create a popping effect\n",
        "        audio_sample = interpolate(yamaha_audio_deaccelerate * deaccelerate_sound_gain, yamaha_audio * accelerate_sound_gain, 0.0, 1.0, sample_lerp)\n",
        "\n",
        "        if engine_speed < idle_speed:\n",
        "            idle_lerp -= idle_lerp_rate\n",
        "        else:\n",
        "            idle_lerp += idle_lerp_rate\n",
        "            \n",
        "        # Clamp idle lerp between 0 and 1\n",
        "        idle_lerp = clamp01(idle_lerp)\n",
        "\n",
        "        # Add a little bit of randomness to the engine RPM\n",
        "        engine_speed += speed_variation * (random.random() - 0.5)\n",
        "\n",
        "        # Add engine sound\n",
        "        frame_lower = math.floor(frame_clock)\n",
        "        frame_upper = math.ceil(frame_clock)\n",
        "\n",
        "        lower_to_upper_ratio = frame_clock - math.floor(frame_clock)\n",
        "\n",
        "        lower_value = audio_sample[frame_lower % yamaha_audio.shape[0]]\n",
        "        upper_value = audio_sample[frame_upper % yamaha_audio.shape[0]]\n",
        "\n",
        "        interpolated_value = lower_value + (upper_value - lower_value) * lower_to_upper_ratio\n",
        "\n",
        "        data[i] += interpolated_value * idle_lerp\n",
        "        data[i] += yamaha_audio_idle_loop[frame_lower % yamaha_audio_idle_loop.shape[0]] * idle_sound_gain * (1.0 - idle_lerp)\n",
        "\n",
        "        # Add wind sound\n",
        "        # Wind gain is based off of speed, more speed -> more wind\n",
        "        wind_gain = wind_gain_min + (wind_gain_max - wind_gain_min) * ((engine_speed - min_speed) / (max_speed - min_speed))\n",
        "        data[i] += wind_audio[frame_lower % wind_audio.shape[0]] * wind_gain\n",
        "\n",
        "        # Increase frame clock\n",
        "        frame_clock += engine_speed\n",
        "\n",
        "        # Increase global time\n",
        "        global_time += 1.0 / srate\n",
        "\n",
        "    return (data, pyaudio.paContinue)\n",
        "\n",
        "# Instantiate PyAudio and initialize PortAudio system resources\n",
        "p = pyaudio.PyAudio()\n",
        "\n",
        "# Open stream using callback\n",
        "stream = p.open(format=pyaudio.paInt16, # ensure type is correct\n",
        "                channels=1,\n",
        "                rate=srate,\n",
        "                output=True,\n",
        "                stream_callback=callback)\n",
        "\n",
        "run = True\n",
        "while run:\n",
        "    events = pygame.event.get()\n",
        "    for event in events:\n",
        "        if event.type == pygame.QUIT:\n",
        "            pygame.quit()\n",
        "            run = False\n",
        "\n",
        "    if run:\n",
        "        win.fill((255, 255, 255))\n",
        "\n",
        "        output.setText(slider.getValue())\n",
        "        engine_speed = slider.getValue()\n",
        "        pygame_widgets.update(events)\n",
        "        pygame.display.update()\n",
        "\n",
        "    time.sleep(0.02)\n",
        "\n",
        "# Close the stream \n",
        "stream.close()\n",
        "\n",
        "# Release PortAudio system resources\n",
        "p.terminate()"
      ]
    },
    {
      "attachments": {},
      "cell_type": "markdown",
      "metadata": {},
      "source": [
        "#### Used to close stream incase of error"
      ]
    },
    {
      "cell_type": "code",
      "execution_count": null,
      "metadata": {},
      "outputs": [],
      "source": [
        "# Close the stream \n",
        "stream.close()\n",
        "\n",
        "# Release PortAudio system resources\n",
        "p.terminate()"
      ]
    },
    {
      "attachments": {
        "image.png": {
          "image/png": "[encoded data removed]"
        }
      },
      "cell_type": "markdown",
      "metadata": {},
      "source": [
        "Deacceleration audio filtering \\\n",
        "\\\n",
        "![image.png](attachment:image.png)"
      ]
    },
    {
      "attachments": {
        "image.png": {
          "image/png": "[encoded data removed]"
        }
      },
      "cell_type": "markdown",
      "metadata": {},
      "source": [
        "Acceleration qudio filtering \\\n",
        "\\\n",
        "![image.png](attachment:image.png)"
      ]
    }
  ],
  "metadata": {
    "colab": {
      "provenance": []
    },
    "kernelspec": {
      "display_name": "Python 3",
      "language": "python",
      "name": "python3"
    },
    "language_info": {
      "codemirror_mode": {
        "name": "ipython",
        "version": 3
      },
      "file_extension": ".py",
      "mimetype": "text/x-python",
      "name": "python",
      "nbconvert_exporter": "python",
      "pygments_lexer": "ipython3",
      "version": "3.10.5"
    },
    "vscode": {
      "interpreter": {
        "hash": "369f2c481f4da34e4445cda3fffd2e751bd1c4d706f27375911949ba6bb62e1c"
      }
    }
  },
  "nbformat": 4,
  "nbformat_minor": 0
}
