{
  "cells": [
    {
      "cell_type": "markdown",
      "metadata": {
        "id": "GJzp6_EWEsKL"
      },
      "source": [
        "### Imports"
      ]
    },
    {
      "cell_type": "code",
      "execution_count": 1,
      "metadata": {
        "id": "0eTmKmAlErlc"
      },
      "outputs": [],
      "source": [
        "import numpy as np\n",
        "import IPython.display as ipd\n",
        "import math\n",
        "import IPython\n",
        "import sys\n",
        "import pyaudio\n",
        "\n",
        "import time\n",
        "import matplotlib.pyplot as plt\n",
        "from matplotlib.widgets import Slider, Button, RadioButtons\n",
        "import wave\n",
        "import random"
      ]
    },
    {
      "cell_type": "code",
      "execution_count": 2,
      "metadata": {},
      "outputs": [],
      "source": [
        "def sinewave(t, freq):\n",
        "    return np.sin(2 * np.pi * freq * t).astype(np.float32)\n",
        "\n",
        "def sawtooth(t, frequency):\n",
        "  return 2 * ( (t*frequency) - np.floor(0.5 + (t*frequency))).astype(np.float32)\n",
        "  \n",
        "def pulse(t, frequency):\n",
        "  return np.round(np.sin(2 * np.pi * frequency * t) > 0).astype(np.float32)\n",
        "\n",
        "def triangle(t, frequency):\n",
        "  return (2 * np.abs(2.0 *((t*frequency) - np.floor(0.5 + (t*frequency)))) - 1.0).astype(np.float32)\n",
        "\n",
        "def noise(t, freq):\n",
        "  t = np.copy(t)\n",
        "  t *= 0\n",
        "  t += np.random.normal(0,1,t.shape)\n",
        "  return t\n",
        "\n",
        "def load_wavefile(filename):\n",
        "  # Open wave file\n",
        "  wave_file = wave.open(filename, 'rb')\n",
        "\n",
        "  # Get parameters\n",
        "  nchannels = wave_file.getnchannels()\n",
        "  sampwidth = wave_file.getsampwidth()\n",
        "  framerate = wave_file.getframerate()\n",
        "  nframes = wave_file.getnframes()\n",
        "\n",
        "  # Read wave data\n",
        "  wave_data = wave_file.readframes(nframes)\n",
        "\n",
        "  # Convert wave data to numpy array\n",
        "  if sampwidth == 2:\n",
        "    # 16-bit samples are stored as signed integers\n",
        "    wave_data = np.frombuffer(wave_data, dtype=np.int16)\n",
        "    print(\"16 int\") # ensure type is correct\n",
        "  elif sampwidth == 4:\n",
        "    # 32-bit samples are stored as floats\n",
        "    wave_data = np.frombuffer(wave_data, dtype=np.int32)\n",
        "    print(\"32 float\") # ensure type is correct\n",
        "\n",
        "  # If stereo, average the channels\n",
        "  if nchannels == 2:\n",
        "    wave_data = np.mean(wave_data.reshape((-1, 2)), axis=1)\n",
        "  \n",
        "  return wave_data, framerate"
      ]
    },
    {
      "cell_type": "code",
      "execution_count": 31,
      "metadata": {
        "colab": {
          "base_uri": "https://localhost:8080/",
          "height": 432
        },
        "id": "JJ3FP-DhO_vE",
        "outputId": "3d83e83d-c5aa-4f19-c5c0-dfb6de852230"
      },
      "outputs": [
        {
          "name": "stdout",
          "output_type": "stream",
          "text": [
            "16 int\n",
            "16 int\n"
          ]
        }
      ],
      "source": [
        "# Load wave file\n",
        "yamaha_audio, srate = load_wavefile('./Audio Samples/Yamaha_24MX/Yamaha_24MX_Single_Repeat.wav')\n",
        "yamaha_audio_deaccelerate, srate = load_wavefile('./Audio Samples/Yamaha_24MX/Yamaha_24MX_Single_Repeat_deacceleration.wav')\n",
        "\n",
        "frame_clock = 0.0\n",
        "max_speed = 1.3\n",
        "min_speed = 0.9\n",
        "alpha = 0.001\n",
        "beta  = 4\n",
        "speed = min_speed\n",
        "speed_variation = 0.001\n",
        "duration = 10\n",
        "\n",
        "sample_lerp = 1.0 # a value of 1 is acceleration only, a value of 0 is deacceleration only. 0.5 is 50% each\n",
        "sample_lerp_rate = 0.01\n",
        "\n",
        "# Define callback for playback\n",
        "def callback(in_data, frame_count, time_info, status):\n",
        "\n",
        "    global frame_clock\n",
        "    global yamaha_audio\n",
        "    global speed\n",
        "    global alpha \n",
        "    global sample_lerp\n",
        "\n",
        "    data = np.zeros(frame_count).astype(np.int16) # ensure type is correct\n",
        "\n",
        "    if alpha < 0:\n",
        "        sample_lerp -= sample_lerp_rate\n",
        "    else:\n",
        "        sample_lerp += sample_lerp_rate\n",
        "\n",
        "    # Clamp sample lerp between 0 and 1\n",
        "    sample_lerp = max(min(sample_lerp, 1.0), 0.0)\n",
        "\n",
        "    # We lerp between the two samples when because when we start deaccelerating we don't want to create a popping effect\n",
        "    audio_sample = yamaha_audio_deaccelerate + (yamaha_audio - yamaha_audio_deaccelerate) * sample_lerp\n",
        "\n",
        "    for i in range(frame_count):\n",
        "\n",
        "        frame_lower = math.floor(frame_clock)\n",
        "        frame_upper = math.ceil(frame_clock)\n",
        "\n",
        "        lower_to_upper_ratio = frame_clock - math.floor(frame_clock)\n",
        "\n",
        "        lower_value = audio_sample[frame_lower % yamaha_audio.shape[0]]\n",
        "        upper_value = audio_sample[frame_upper % yamaha_audio.shape[0]]\n",
        "\n",
        "        interpolated_value = lower_value + (upper_value - lower_value) * lower_to_upper_ratio\n",
        "\n",
        "        data[i] = interpolated_value\n",
        "        frame_clock += speed\n",
        "\n",
        "    speed += alpha * math.pow(speed, beta)\n",
        "    speed += speed_variation * (random.random() - 0.5)\n",
        "\n",
        "    if speed > max_speed:\n",
        "        alpha = -abs(alpha)\n",
        "\n",
        "    if speed < min_speed:\n",
        "        alpha = abs(alpha)\n",
        "\n",
        "    return (data, pyaudio.paContinue)\n",
        "\n",
        "# Instantiate PyAudio and initialize PortAudio system resources\n",
        "p = pyaudio.PyAudio()\n",
        "\n",
        "\n",
        "# Open stream using callback\n",
        "stream = p.open(format=pyaudio.paInt16, # ensure type is correct\n",
        "                channels=1,\n",
        "                rate=srate,\n",
        "                output=True,\n",
        "                stream_callback=callback)\n",
        "\n",
        "# Wait until audio stream is completed\n",
        "time.sleep(duration)\n",
        "\n",
        "# Close the stream \n",
        "stream.close()\n",
        "\n",
        "# Release PortAudio system resources\n",
        "p.terminate()"
      ]
    },
    {
      "attachments": {},
      "cell_type": "markdown",
      "metadata": {},
      "source": [
        "#### Used to close stream incase of error"
      ]
    },
    {
      "cell_type": "code",
      "execution_count": 30,
      "metadata": {},
      "outputs": [],
      "source": [
        "# Close the stream \n",
        "stream.close()\n",
        "\n",
        "# Release PortAudio system resources\n",
        "p.terminate()"
      ]
    },
    {
      "attachments": {
        "image.png": {
          "image/png": "[encoded data removed]"
        }
      },
      "cell_type": "markdown",
      "metadata": {},
      "source": [
        "Deacceleration audio filtering \\\n",
        "\\\n",
        "![image.png](attachment:image.png)"
      ]
    },
    {
      "attachments": {
        "image.png": {
          "image/png": "[encoded data removed]"
        }
      },
      "cell_type": "markdown",
      "metadata": {},
      "source": [
        "Acceleration qudio filtering \\\n",
        "\\\n",
        "![image.png](attachment:image.png)"
      ]
    }
  ],
  "metadata": {
    "colab": {
      "provenance": []
    },
    "kernelspec": {
      "display_name": "Python 3",
      "language": "python",
      "name": "python3"
    },
    "language_info": {
      "codemirror_mode": {
        "name": "ipython",
        "version": 3
      },
      "file_extension": ".py",
      "mimetype": "text/x-python",
      "name": "python",
      "nbconvert_exporter": "python",
      "pygments_lexer": "ipython3",
      "version": "3.10.5"
    },
    "vscode": {
      "interpreter": {
        "hash": "369f2c481f4da34e4445cda3fffd2e751bd1c4d706f27375911949ba6bb62e1c"
      }
    }
  },
  "nbformat": 4,
  "nbformat_minor": 0
}
